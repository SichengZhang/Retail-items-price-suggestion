{
 "cells": [
  {
   "cell_type": "code",
   "execution_count": 1,
   "metadata": {},
   "outputs": [],
   "source": [
    "import pandas as pd\n",
    "import numpy as np\n",
    "from sklearn.feature_extraction.text import CountVectorizer\n",
    "from sklearn.preprocessing import OneHotEncoder\n",
    "from collections import Counter\n",
    "from sklearn.model_selection import train_test_split\n",
    "import re\n",
    "from sklearn.ensemble import RandomForestRegressor\n",
    "from sklearn.model_selection import cross_validate\n",
    "from sklearn.metrics import mean_squared_log_error\n",
    "from sklearn.metrics import make_scorer\n",
    "from sklearn.model_selection import KFold\n",
    "from sklearn.ensemble import RandomForestRegressor"
   ]
  },
  {
   "cell_type": "code",
   "execution_count": 2,
   "metadata": {},
   "outputs": [
    {
     "name": "stdout",
     "output_type": "stream",
     "text": [
      "(1482535, 12)\n"
     ]
    },
    {
     "data": {
      "text/html": [
       "<div>\n",
       "<style>\n",
       "    .dataframe thead tr:only-child th {\n",
       "        text-align: right;\n",
       "    }\n",
       "\n",
       "    .dataframe thead th {\n",
       "        text-align: left;\n",
       "    }\n",
       "\n",
       "    .dataframe tbody tr th {\n",
       "        vertical-align: top;\n",
       "    }\n",
       "</style>\n",
       "<table border=\"1\" class=\"dataframe\">\n",
       "  <thead>\n",
       "    <tr style=\"text-align: right;\">\n",
       "      <th></th>\n",
       "      <th>name</th>\n",
       "      <th>item_condition_id</th>\n",
       "      <th>brand_name</th>\n",
       "      <th>price</th>\n",
       "      <th>shipping</th>\n",
       "      <th>item_description</th>\n",
       "      <th>cat1</th>\n",
       "      <th>cat2</th>\n",
       "      <th>cat3</th>\n",
       "      <th>seq_item_description</th>\n",
       "      <th>seq_name</th>\n",
       "      <th>target</th>\n",
       "    </tr>\n",
       "  </thead>\n",
       "  <tbody>\n",
       "    <tr>\n",
       "      <th>0</th>\n",
       "      <td>MLB Cincinnati Reds T Shirt Size XL</td>\n",
       "      <td>3</td>\n",
       "      <td>4786</td>\n",
       "      <td>10.0</td>\n",
       "      <td>1</td>\n",
       "      <td>No description yet</td>\n",
       "      <td>5</td>\n",
       "      <td>102</td>\n",
       "      <td>758</td>\n",
       "      <td>[12, 68, 79]</td>\n",
       "      <td>[3852, 8823, 6896, 208, 84, 6, 155]</td>\n",
       "      <td>-0.369464</td>\n",
       "    </tr>\n",
       "    <tr>\n",
       "      <th>1</th>\n",
       "      <td>Razer BlackWidow Chroma Keyboard</td>\n",
       "      <td>3</td>\n",
       "      <td>3557</td>\n",
       "      <td>52.0</td>\n",
       "      <td>0</td>\n",
       "      <td>This keyboard is in great condition and works ...</td>\n",
       "      <td>1</td>\n",
       "      <td>30</td>\n",
       "      <td>212</td>\n",
       "      <td>[29, 2627, 10, 7, 39, 17, 1, 207, 51, 19, 1113...</td>\n",
       "      <td>[10760, 25565, 16369, 2627]</td>\n",
       "      <td>0.044005</td>\n",
       "    </tr>\n",
       "    <tr>\n",
       "      <th>2</th>\n",
       "      <td>AVA-VIV Blouse</td>\n",
       "      <td>1</td>\n",
       "      <td>4180</td>\n",
       "      <td>10.0</td>\n",
       "      <td>1</td>\n",
       "      <td>Adorable top with a hint of lace and a key hol...</td>\n",
       "      <td>9</td>\n",
       "      <td>103</td>\n",
       "      <td>94</td>\n",
       "      <td>[604, 60, 9, 4, 5347, 11, 192, 1, 4, 886, 1290...</td>\n",
       "      <td>[7634, 10563, 666]</td>\n",
       "      <td>-0.369464</td>\n",
       "    </tr>\n",
       "  </tbody>\n",
       "</table>\n",
       "</div>"
      ],
      "text/plain": [
       "                                  name  item_condition_id  brand_name  price  \\\n",
       "0  MLB Cincinnati Reds T Shirt Size XL                  3        4786   10.0   \n",
       "1     Razer BlackWidow Chroma Keyboard                  3        3557   52.0   \n",
       "2                       AVA-VIV Blouse                  1        4180   10.0   \n",
       "\n",
       "   shipping                                   item_description  cat1  cat2  \\\n",
       "0         1                                 No description yet     5   102   \n",
       "1         0  This keyboard is in great condition and works ...     1    30   \n",
       "2         1  Adorable top with a hint of lace and a key hol...     9   103   \n",
       "\n",
       "   cat3                               seq_item_description  \\\n",
       "0   758                                       [12, 68, 79]   \n",
       "1   212  [29, 2627, 10, 7, 39, 17, 1, 207, 51, 19, 1113...   \n",
       "2    94  [604, 60, 9, 4, 5347, 11, 192, 1, 4, 886, 1290...   \n",
       "\n",
       "                              seq_name    target  \n",
       "0  [3852, 8823, 6896, 208, 84, 6, 155] -0.369464  \n",
       "1          [10760, 25565, 16369, 2627]  0.044005  \n",
       "2                   [7634, 10563, 666] -0.369464  "
      ]
     },
     "execution_count": 2,
     "metadata": {},
     "output_type": "execute_result"
    }
   ],
   "source": [
    "train = pd.read_csv(\"~/Documents/final project data/clean.csv\")\n",
    "print(train.shape)\n",
    "train.head(3)"
   ]
  },
  {
   "cell_type": "code",
   "execution_count": 3,
   "metadata": {},
   "outputs": [
    {
     "name": "stderr",
     "output_type": "stream",
     "text": [
      "/usr/local/lib/python3.6/site-packages/sklearn/model_selection/_split.py:2010: FutureWarning: From version 0.21, test_size will always complement train_size unless both are specified.\n",
      "  FutureWarning)\n"
     ]
    }
   ],
   "source": [
    "def rmsle(ytrue,y):\n",
    "    return np.sqrt(mean_squared_log_error(ytrue,y))\n",
    "\n",
    "X = train.loc[:,['item_condition_id','brand_name','shipping','cat1','cat2','cat3']]\n",
    "y = train['price']\n",
    "X_train, X_test, y_train, y_test = train_test_split(X, y, train_size=0.7)"
   ]
  },
  {
   "cell_type": "code",
   "execution_count": 4,
   "metadata": {},
   "outputs": [
    {
     "name": "stdout",
     "output_type": "stream",
     "text": [
      "0.602128939549\n",
      "0.607873616291\n",
      "[ 0.09302144  0.42621754  0.02292533  0.07401842  0.20705222  0.17676505]\n"
     ]
    }
   ],
   "source": [
    "rfc = RandomForestRegressor(n_estimators=50,min_samples_leaf=50,max_depth=20)\n",
    "rfc.fit(X_train,y_train)\n",
    "\n",
    "y_pred_tr = rfc.predict(X_train)\n",
    "score_train = rmsle(y_train,y_pred_tr)\n",
    "\n",
    "y_pred = rfc.predict(X_test)\n",
    "score_test = rmsle(y_test,y_pred)\n",
    "\n",
    "print(score_train)\n",
    "print(score_test)\n",
    "print(rfc.feature_importances_)"
   ]
  },
  {
   "cell_type": "code",
   "execution_count": 5,
   "metadata": {},
   "outputs": [
    {
     "name": "stdout",
     "output_type": "stream",
     "text": [
      "0.789084403686\n",
      "0.789230348458\n"
     ]
    }
   ],
   "source": [
    "from sklearn.linear_model import Ridge\n",
    "\n",
    "rr = Ridge(solver=\"sag\", fit_intercept=True, random_state=205, alpha=3)\n",
    "rr.fit(X_train,y_train)\n",
    "\n",
    "y_pred_tr = rr.predict(X_train)\n",
    "score_train = rmsle(y_train,y_pred_tr)\n",
    "\n",
    "y_pred = rr.predict(X_test)\n",
    "score_test = rmsle(y_test,y_pred)\n",
    "\n",
    "print(score_train)\n",
    "print(score_test)"
   ]
  },
  {
   "cell_type": "code",
   "execution_count": 6,
   "metadata": {},
   "outputs": [
    {
     "name": "stdout",
     "output_type": "stream",
     "text": [
      "0.813219240161\n",
      "0.813073696837\n"
     ]
    }
   ],
   "source": [
    "rr2 = Ridge(solver=\"lsqr\", fit_intercept=True, random_state=123, alpha=3)\n",
    "rr2.fit(X_train,y_train)\n",
    "\n",
    "y_pred_tr = rr2.predict(X_train)\n",
    "score_train = rmsle(y_train,y_pred_tr)\n",
    "\n",
    "y_pred = rr2.predict(X_test)\n",
    "score_test = rmsle(y_test,y_pred)\n",
    "\n",
    "print(score_train)\n",
    "print(score_test)"
   ]
  },
  {
   "cell_type": "code",
   "execution_count": null,
   "metadata": {},
   "outputs": [],
   "source": []
  }
 ],
 "metadata": {
  "kernelspec": {
   "display_name": "Python 3",
   "language": "python",
   "name": "python3"
  },
  "language_info": {
   "codemirror_mode": {
    "name": "ipython",
    "version": 3
   },
   "file_extension": ".py",
   "mimetype": "text/x-python",
   "name": "python",
   "nbconvert_exporter": "python",
   "pygments_lexer": "ipython3",
   "version": "3.6.2"
  }
 },
 "nbformat": 4,
 "nbformat_minor": 2
}
