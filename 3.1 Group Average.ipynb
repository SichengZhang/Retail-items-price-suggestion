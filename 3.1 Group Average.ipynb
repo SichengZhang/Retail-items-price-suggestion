{
 "cells": [
  {
   "cell_type": "code",
   "execution_count": 1,
   "metadata": {},
   "outputs": [],
   "source": [
    "import re\n",
    "import pandas as pd\n",
    "import numpy as np\n",
    "from sklearn.feature_extraction.text import CountVectorizer\n",
    "from sklearn.preprocessing import OneHotEncoder\n",
    "from collections import Counter\n",
    "from sklearn.decomposition import TruncatedSVD\n",
    "from sklearn.model_selection import train_test_split\n",
    "from sklearn.linear_model import LinearRegression\n",
    "from sklearn.model_selection import cross_validate\n",
    "from sklearn.metrics import mean_squared_log_error\n",
    "from sklearn.metrics import make_scorer\n",
    "from sklearn.model_selection import KFold"
   ]
  },
  {
   "cell_type": "code",
   "execution_count": 2,
   "metadata": {},
   "outputs": [
    {
     "name": "stderr",
     "output_type": "stream",
     "text": [
      "/usr/local/lib/python3.6/site-packages/numpy/lib/arraysetops.py:463: FutureWarning: elementwise comparison failed; returning scalar instead, but in the future will perform elementwise comparison\n",
      "  mask |= (ar1 == a)\n"
     ]
    }
   ],
   "source": [
    "train = pd.read_table(\"~/Documents/final project data/train.tsv\",sep='\\t',index_col=0)"
   ]
  },
  {
   "cell_type": "code",
   "execution_count": 3,
   "metadata": {},
   "outputs": [],
   "source": [
    "# train['item_condition_id'] = train['item_condition_id'].astype(np.int8)\n",
    "train['category_name'] = train['category_name'].fillna('')\n",
    "train['brand_name'] = train['brand_name'].fillna('')\n",
    "def rmsle(ytrue,y):\n",
    "    return np.sqrt(mean_squared_log_error(ytrue,y))"
   ]
  },
  {
   "cell_type": "code",
   "execution_count": 6,
   "metadata": {},
   "outputs": [
    {
     "name": "stdout",
     "output_type": "stream",
     "text": [
      "Fold 0\n",
      "RMSLE, train, all feature price: 0.5585\n",
      "RMSLE, test, all feature price: 0.6014\n",
      "Fold 1\n",
      "RMSLE, train, all feature price: 0.5584\n",
      "RMSLE, test, all feature price: 0.6034\n",
      "Fold 2\n",
      "RMSLE, train, all feature price: 0.5582\n",
      "RMSLE, test, all feature price: 0.6019\n",
      "Fold 3\n",
      "RMSLE, train, all feature price: 0.5586\n",
      "RMSLE, test, all feature price: 0.6008\n",
      "Fold 4\n",
      "RMSLE, train, all feature price: 0.5585\n",
      "RMSLE, test, all feature price: 0.6024\n"
     ]
    }
   ],
   "source": [
    "from sklearn.model_selection import KFold\n",
    "\n",
    "kf = KFold(n_splits=5,random_state=123)\n",
    "i = 0\n",
    "def get_val(series,x,default):\n",
    "    try:\n",
    "        return series[x]\n",
    "    except:\n",
    "        pass\n",
    "    return default\n",
    "\n",
    "train['All4'] = ['Cat:'+c+' Brand:'+b+ \\\n",
    "                ' condition:'+str(i) + ' shipping:'+str(s)\n",
    "                for c,b,i,s in zip(train.category_name,train.brand_name,\n",
    "                                   train.item_condition_id,train.shipping)]\n",
    "\n",
    "for train_idx,val_idx in kf.split(train):\n",
    "    print('Fold {}'.format(i))\n",
    "    i+=1\n",
    "    cols = [1,2,3,4,5]\n",
    "    X_train = train.iloc[train_idx,:]\n",
    "    X_val = train.iloc[val_idx,:]\n",
    "\n",
    "    cb_price = X_train.groupby('All4').price.mean()\n",
    "\n",
    "    mean = train.price.mean()\n",
    "    \n",
    "    cb_price_train = np.array([cb_price[x] for x in X_train.All4 ])\n",
    "    cb_price_val = np.array([get_val(cb_price,x,mean) for x in X_val.All4])\n",
    "    \n",
    "    print('RMSLE, train, all feature price: {:0.4}'\n",
    "          .format(rmsle(X_train.price,cb_price_train)))\n",
    "    print('RMSLE, test, all feature price: {:0.4}'\n",
    "          .format(rmsle(X_val.price,cb_price_val)))"
   ]
  }
 ],
 "metadata": {
  "kernelspec": {
   "display_name": "Python 3",
   "language": "python",
   "name": "python3"
  },
  "language_info": {
   "codemirror_mode": {
    "name": "ipython",
    "version": 3
   },
   "file_extension": ".py",
   "mimetype": "text/x-python",
   "name": "python",
   "nbconvert_exporter": "python",
   "pygments_lexer": "ipython3",
   "version": "3.6.2"
  }
 },
 "nbformat": 4,
 "nbformat_minor": 2
}
