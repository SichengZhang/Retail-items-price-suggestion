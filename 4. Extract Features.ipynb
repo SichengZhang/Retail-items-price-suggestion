{
 "cells": [
  {
   "cell_type": "code",
   "execution_count": 3,
   "metadata": {},
   "outputs": [
    {
     "name": "stderr",
     "output_type": "stream",
     "text": [
      "/home/a416253190/anaconda3/lib/python3.5/site-packages/sklearn/cross_validation.py:41: DeprecationWarning: This module was deprecated in version 0.18 in favor of the model_selection module into which all the refactored classes and functions are moved. Also note that the interface of the new CV iterators are different from that of this module. This module will be removed in 0.20.\n",
      "  \"This module will be removed in 0.20.\", DeprecationWarning)\n",
      "Using TensorFlow backend.\n"
     ]
    }
   ],
   "source": [
    "import re \n",
    "import math\n",
    "import numpy as np\n",
    "import pandas as pd\n",
    "from sklearn.preprocessing import LabelEncoder\n",
    "import pickle\n",
    "\n",
    "from sklearn.cross_validation import train_test_split\n",
    "from sklearn.metrics import mean_squared_log_error\n",
    "from sklearn.preprocessing import LabelEncoder\n",
    "\n",
    "from collections import defaultdict\n",
    "\n",
    "from keras.preprocessing.text import text_to_word_sequence\n",
    "\n",
    "import nltk"
   ]
  },
  {
   "cell_type": "code",
   "execution_count": 4,
   "metadata": {},
   "outputs": [
    {
     "name": "stdout",
     "output_type": "stream",
     "text": [
      "(758065, 13)\n"
     ]
    },
    {
     "data": {
      "text/html": [
       "<div>\n",
       "<style scoped>\n",
       "    .dataframe tbody tr th:only-of-type {\n",
       "        vertical-align: middle;\n",
       "    }\n",
       "\n",
       "    .dataframe tbody tr th {\n",
       "        vertical-align: top;\n",
       "    }\n",
       "\n",
       "    .dataframe thead th {\n",
       "        text-align: right;\n",
       "    }\n",
       "</style>\n",
       "<table border=\"1\" class=\"dataframe\">\n",
       "  <thead>\n",
       "    <tr style=\"text-align: right;\">\n",
       "      <th></th>\n",
       "      <th>name</th>\n",
       "      <th>item_condition_id</th>\n",
       "      <th>category_name</th>\n",
       "      <th>brand_name</th>\n",
       "      <th>price</th>\n",
       "      <th>shipping</th>\n",
       "      <th>item_description</th>\n",
       "      <th>cat1</th>\n",
       "      <th>cat2</th>\n",
       "      <th>cat3</th>\n",
       "      <th>cat4</th>\n",
       "      <th>cat5</th>\n",
       "      <th>target</th>\n",
       "    </tr>\n",
       "  </thead>\n",
       "  <tbody>\n",
       "    <tr>\n",
       "      <th>0</th>\n",
       "      <td>mlb cincinnati reds t shirt size xl</td>\n",
       "      <td>3</td>\n",
       "      <td>Men/Tops/T-shirts</td>\n",
       "      <td>4786</td>\n",
       "      <td>10.0</td>\n",
       "      <td>1</td>\n",
       "      <td>no description yet</td>\n",
       "      <td>554</td>\n",
       "      <td>859</td>\n",
       "      <td>827</td>\n",
       "      <td>950</td>\n",
       "      <td>950</td>\n",
       "      <td>-0.369464</td>\n",
       "    </tr>\n",
       "    <tr>\n",
       "      <th>1</th>\n",
       "      <td>ava-viv blouse</td>\n",
       "      <td>1</td>\n",
       "      <td>Women/Tops &amp; Blouses/Blouse</td>\n",
       "      <td>4180</td>\n",
       "      <td>10.0</td>\n",
       "      <td>1</td>\n",
       "      <td>adorable top with a hint of lace and a key hol...</td>\n",
       "      <td>934</td>\n",
       "      <td>860</td>\n",
       "      <td>104</td>\n",
       "      <td>950</td>\n",
       "      <td>950</td>\n",
       "      <td>-0.369464</td>\n",
       "    </tr>\n",
       "    <tr>\n",
       "      <th>2</th>\n",
       "      <td>24k gold plated rose</td>\n",
       "      <td>1</td>\n",
       "      <td>Women/Jewelry/Necklaces</td>\n",
       "      <td>4786</td>\n",
       "      <td>44.0</td>\n",
       "      <td>0</td>\n",
       "      <td>complete with certificate of authenticity</td>\n",
       "      <td>934</td>\n",
       "      <td>480</td>\n",
       "      <td>584</td>\n",
       "      <td>950</td>\n",
       "      <td>950</td>\n",
       "      <td>0.000978</td>\n",
       "    </tr>\n",
       "  </tbody>\n",
       "</table>\n",
       "</div>"
      ],
      "text/plain": [
       "                                  name  item_condition_id  \\\n",
       "0  mlb cincinnati reds t shirt size xl                  3   \n",
       "1                       ava-viv blouse                  1   \n",
       "2                 24k gold plated rose                  1   \n",
       "\n",
       "                 category_name  brand_name  price  shipping  \\\n",
       "0            Men/Tops/T-shirts        4786   10.0         1   \n",
       "1  Women/Tops & Blouses/Blouse        4180   10.0         1   \n",
       "2      Women/Jewelry/Necklaces        4786   44.0         0   \n",
       "\n",
       "                                    item_description  cat1  cat2  cat3  cat4  \\\n",
       "0                                 no description yet   554   859   827   950   \n",
       "1  adorable top with a hint of lace and a key hol...   934   860   104   950   \n",
       "2          complete with certificate of authenticity   934   480   584   950   \n",
       "\n",
       "   cat5    target  \n",
       "0   950 -0.369464  \n",
       "1   950 -0.369464  \n",
       "2   950  0.000978  "
      ]
     },
     "execution_count": 4,
     "metadata": {},
     "output_type": "execute_result"
    }
   ],
   "source": [
    "cloth = pd.read_csv(\"/mnt/disks/~/clean.csv\")\n",
    "print(cloth.shape)\n",
    "cloth.head(3)"
   ]
  },
  {
   "cell_type": "markdown",
   "metadata": {},
   "source": [
    "# Tokenize\n",
    "Tokenize the text and add 2 columns of the tokenized words"
   ]
  },
  {
   "cell_type": "code",
   "execution_count": 5,
   "metadata": {},
   "outputs": [],
   "source": [
    "cloth['token_name'] = [text_to_word_sequence(w) for w in cloth['name']]\n",
    "cloth['token_item_description'] = [text_to_word_sequence(w) for w in cloth['item_description']]"
   ]
  },
  {
   "cell_type": "raw",
   "metadata": {},
   "source": [
    "# Form the documentt\n",
    "cloth_doc = np.hstack([cloth['token_name'],cloth['token_item_description']])\n",
    "cloth_token = [w for l in cloth_doc for w in l]"
   ]
  },
  {
   "cell_type": "raw",
   "metadata": {},
   "source": [
    "# The most used describing word"
   ]
  },
  {
   "cell_type": "raw",
   "metadata": {},
   "source": [
    "# Part-of-Speech Tagging\n",
    "import nltk\n",
    "cloth_post = nltk.pos_tag(cloth_token)"
   ]
  },
  {
   "cell_type": "raw",
   "metadata": {},
   "source": [
    "cloth_jj = [word for (word, tag) in cloth_post if tag == 'JJ']\n",
    "cloth_jj_freq = nltk.FreqDist(cloth_jj)"
   ]
  },
  {
   "cell_type": "raw",
   "metadata": {},
   "source": [
    "print(cloth_jj_freq.most_common(50))"
   ]
  },
  {
   "cell_type": "markdown",
   "metadata": {},
   "source": [
    "# What's the item?"
   ]
  },
  {
   "cell_type": "code",
   "execution_count": 6,
   "metadata": {},
   "outputs": [],
   "source": [
    "items = ['missing', 'shirt', 't-shirt', 't shirt', 'pants', \\\n",
    "         'jeans', 'trousers', 'jacket', 'coat', \\\n",
    "         'sweater', 'hat', 'cap', 'dress', 'shorts', \\\n",
    "         'underwear', 'socks', 'blouse', 'shoes', 'boots']\n",
    "\n",
    "def getItem(text):\n",
    "    item = 'missing'\n",
    "    for w in items:\n",
    "        if re.search(w, text):\n",
    "            item = w\n",
    "    return item\n",
    "\n",
    "cloth['item_name'] = [getItem(text) for text in cloth['name']]\n",
    "\n",
    "item_name_le = LabelEncoder()\n",
    "item_name_le.fit(items)\n",
    "cloth.item_name = item_name_le.transform(cloth.item_name)\n",
    "# save the model to disk\n",
    "item_name_le_file = '/mnt/disks/~/item_name_le.sav'\n",
    "pickle.dump(item_name_le, open(item_name_le_file, 'wb'), protocol=2)"
   ]
  },
  {
   "cell_type": "markdown",
   "metadata": {},
   "source": [
    "# Color"
   ]
  },
  {
   "cell_type": "code",
   "execution_count": 7,
   "metadata": {},
   "outputs": [],
   "source": [
    "colors = ['missing', 'white', 'black', 'pink', 'red', 'green', \\\n",
    "          'blue', 'yellow', 'brown', 'purple', 'violet', 'dark']\n",
    "\n",
    "def getColor(text):\n",
    "    color = 'missing'\n",
    "    for w in colors:\n",
    "        if re.search(w, text):\n",
    "            color = w\n",
    "    return color\n",
    "\n",
    "cloth['color'] = [getColor(text) for text in cloth['item_description']]\n",
    "\n",
    "# Color\n",
    "color_le = LabelEncoder()\n",
    "color_le.fit(colors)\n",
    "cloth.color = color_le.transform(cloth.color)\n",
    "# save the model to disk\n",
    "color_le_file = '/mnt/disks/~/color_le.sav'\n",
    "pickle.dump(color_le, open(color_le_file, 'wb'), protocol=2)"
   ]
  },
  {
   "cell_type": "markdown",
   "metadata": {},
   "source": [
    "# New or not?\n",
    "0 stands for old. 1 stands for new."
   ]
  },
  {
   "cell_type": "code",
   "execution_count": 8,
   "metadata": {},
   "outputs": [],
   "source": [
    "def isNew(text):\n",
    "    match1 = re.search('new', text)\n",
    "    match2 = re.search('never worn', text)\n",
    "    if match1:\n",
    "        flag = 1\n",
    "    elif match2:\n",
    "        flag = 1\n",
    "    else: flag = 0\n",
    "    return flag\n",
    "\n",
    "cloth['isnew'] = [isNew(t) for t in cloth['item_description']]"
   ]
  },
  {
   "cell_type": "markdown",
   "metadata": {},
   "source": [
    "# Style of the cloth\n",
    "Such as classic, casual, old-fashioned, vintage, retro, sport and formal."
   ]
  },
  {
   "cell_type": "code",
   "execution_count": 9,
   "metadata": {},
   "outputs": [],
   "source": [
    "styles = ['missing', 'active','adjustable','affordable','asymmetrical',\\\n",
    "          'beautiful','casual','classic','comfortable',\\\n",
    "          'contemporary','cool','custom','cute','discount',\\\n",
    "          'easy to maintain','eco friendly','elegant','engineered',\\\n",
    "          'environmentally friendly','exciting','exposed','flexible',\\\n",
    "          'formal','half priced','high-waisted','knee length',\\\n",
    "          'knit','layered','lightweight','metallic','modern',\\\n",
    "          'moisture-wicking','old-fashioned','on trend','organic',\\\n",
    "          'oversized','patchwork','patterned','peasant','polished',\\\n",
    "          'pretty','professional','protective','retro',\\\n",
    "          'rocky','romantic','scooped-neck','semi-formal','sexy',\\\n",
    "          'simple','soft','solid','sport','standard','superior',\\\n",
    "          'supersoft','sweetheart','symmetrical','tailored',\\\n",
    "          'textured','trend','unique','vintage','voluminous',\n",
    "          'water-resistant','waterproof','wear-anywhere','whimsical']\n",
    "\n",
    "def getStyle(text):\n",
    "    style = 'missing'\n",
    "    for w in styles:\n",
    "        if re.search(w, text):\n",
    "            style = w\n",
    "    return style\n",
    "\n",
    "cloth['style'] = [getStyle(text) for text in cloth['item_description']]\n",
    "\n",
    "style_le = LabelEncoder()\n",
    "style_le.fit(styles)\n",
    "cloth['style'] = style_le.transform(cloth['style'])\n",
    "# save the model to disk\n",
    "style_le_file = '/mnt/disks/~/style_le.sav'\n",
    "pickle.dump(style_le, open(style_le_file, 'wb'), protocol=2)"
   ]
  },
  {
   "cell_type": "markdown",
   "metadata": {},
   "source": [
    "# Aging of the style\n",
    "Whether it's 60s, 70s, 80s, 90s, modern or missing."
   ]
  },
  {
   "cell_type": "code",
   "execution_count": 10,
   "metadata": {},
   "outputs": [],
   "source": [
    "ages = ['missing', '60s', '70s', '80s', '90s', 'modern']\n",
    "\n",
    "def age(text):\n",
    "    flag = 'missing'\n",
    "    match60 = re.search('60s', text)\n",
    "    match70 = re.search('70s', text)\n",
    "    match80 = re.search('80s', text)\n",
    "    match90 = re.search('90s', text)\n",
    "    match00 = re.search('modern', text)\n",
    "\n",
    "    if match60: flag = '60s'\n",
    "    if match70: flag = '70s'\n",
    "    if match80: flag = '80s'\n",
    "    if match90: flag = '90s'\n",
    "    if match00: flag = 'modern'\n",
    "    return flag\n",
    "cloth['age'] = [age(t) for t in cloth['item_description']]\n",
    "\n",
    "age_le = LabelEncoder()\n",
    "age_le.fit(ages)\n",
    "cloth.age = age_le.transform(cloth.age)\n",
    "# save the model to disk\n",
    "age_le_file = '/mnt/disks/~/age_le.sav'\n",
    "pickle.dump(age_le, open(age_le_file, 'wb'), protocol=2)"
   ]
  },
  {
   "cell_type": "markdown",
   "metadata": {},
   "source": [
    "# Wash style\n",
    "0 stands for missing. 1 stands for hand wash. 2 stands for machine washable."
   ]
  },
  {
   "cell_type": "code",
   "execution_count": 11,
   "metadata": {},
   "outputs": [],
   "source": [
    "def getWash(text):\n",
    "    flag = 0\n",
    "    match1 = re.search('hand wash', text)\n",
    "    match2 = re.search('machine wash', text)\n",
    "    if match1:\n",
    "        flag = 1\n",
    "    if match2:\n",
    "        flag = 2\n",
    "    return flag\n",
    "\n",
    "cloth['wash_style'] = [getWash(text) for text in cloth['item_description']]"
   ]
  },
  {
   "cell_type": "markdown",
   "metadata": {},
   "source": [
    "# Fit"
   ]
  },
  {
   "cell_type": "code",
   "execution_count": 12,
   "metadata": {},
   "outputs": [],
   "source": [
    "fits = ['missing', 'loose','standard-fit','fitted','tight','skinny','skinny-fit']\n",
    "\n",
    "def getFit(text):\n",
    "    fit = 'missing'\n",
    "    for w in fits:\n",
    "        if re.search(w, text):\n",
    "            fit = w       \n",
    "    return fit\n",
    "\n",
    "cloth['fit'] = [getFit(text) for text in cloth['item_description']]\n",
    "\n",
    "fit_le = LabelEncoder()\n",
    "fit_le.fit(fits)\n",
    "cloth.fit = fit_le.transform(cloth.fit)\n",
    "# save the model to disk\n",
    "fit_le_file = '/mnt/disks/~/fit_le.sav'\n",
    "pickle.dump(fit_le, open(fit_le_file, 'wb'), protocol=2)"
   ]
  },
  {
   "cell_type": "markdown",
   "metadata": {},
   "source": [
    "# Size\n",
    "0 stands for missing. 1 stands for xs. 2 stands for s.\n",
    "3 stands for m. 4 stands for l. 5 stands for xl. 6 stands for xxl."
   ]
  },
  {
   "cell_type": "code",
   "execution_count": 13,
   "metadata": {},
   "outputs": [],
   "source": [
    "sizes = ['missing', 'xs','s','m','l','xl','xxl','extra small','small','medium','large','extra large']\n",
    "\n",
    "def getSize(text):\n",
    "    size = 0\n",
    "    for w in sizes:\n",
    "        if re.search(w, text):\n",
    "            size = w  \n",
    "    if (size == 'xs') | (size == 'extra small'):\n",
    "        size = 1\n",
    "    elif (size == 's') | (size == 'small'):\n",
    "        size = 2\n",
    "    elif (size == 'm') | (size == 'medium'):\n",
    "        size = 3\n",
    "    elif (size == 'l') | (size == 'large'):\n",
    "        size = 4\n",
    "    elif (size == 'xl') | (size == 'extra large'):\n",
    "        size = 5\n",
    "    elif size == 'xxl':\n",
    "        size = 6\n",
    "    else: size = 0\n",
    "    return size\n",
    "\n",
    "cloth['size'] = [getSize(text) for text in cloth['item_description']]"
   ]
  },
  {
   "cell_type": "markdown",
   "metadata": {},
   "source": [
    "# Fabric"
   ]
  },
  {
   "cell_type": "code",
   "execution_count": 14,
   "metadata": {},
   "outputs": [],
   "source": [
    "fabrics = ['missing', 'canvas','chambray','cotton','leather','flax',\\\n",
    "           'full-grain leather','jacquard','jean','jersey',\\\n",
    "           'lace','mesh','moleskin','nylon','organza','oxford',\\\n",
    "           'polyester','silk','top-grain leather']\n",
    "\n",
    "def getFabric(text):\n",
    "    fabric = 'missing'\n",
    "    for w in fabrics:\n",
    "        if re.search(w, text):\n",
    "            fabric = w\n",
    "    return fabric\n",
    "\n",
    "cloth['fabric'] = [getFabric(text) for text in cloth['item_description']]\n",
    "\n",
    "fabric_le = LabelEncoder()\n",
    "fabric_le.fit(fabrics)\n",
    "cloth.fabric = fabric_le.transform(cloth.fabric)\n",
    "# save the model to disk\n",
    "fabric_le_file = '/mnt/disks/~/fabric_le.sav'\n",
    "pickle.dump(fabric_le, open(fabric_le_file, 'wb'), protocol=2)"
   ]
  },
  {
   "cell_type": "markdown",
   "metadata": {
    "collapsed": true
   },
   "source": [
    "# Quality of the cloth"
   ]
  },
  {
   "cell_type": "code",
   "execution_count": 15,
   "metadata": {},
   "outputs": [],
   "source": [
    "qualities = ['missing', 'poor','premium','high-quality','low-quality','medium-quality','normal-quality']\n",
    "\n",
    "def getQuality(text):\n",
    "    quality = 'missing'\n",
    "    for w in qualities:\n",
    "        if re.search(w, text):\n",
    "            quality = w\n",
    "    return quality\n",
    "\n",
    "cloth['quality'] = [getQuality(text) for text in cloth['item_description']]\n",
    "\n",
    "quality_le = LabelEncoder()\n",
    "quality_le.fit(qualities)\n",
    "cloth.quality = quality_le.transform(cloth.quality)\n",
    "# save the model to disk\n",
    "quality_le_file = '/mnt/disks/~/quality_le.sav'\n",
    "pickle.dump(quality_le, open(quality_le_file, 'wb'), protocol=2)"
   ]
  },
  {
   "cell_type": "markdown",
   "metadata": {
    "collapsed": true
   },
   "source": [
    "# Sentiment Extraction\n",
    "Since we are not focusing on the sentiment analysis part, we will just cite a pre-clothed model called vaderSentiment to get the result of Positive, Neutral and Negtive."
   ]
  },
  {
   "cell_type": "raw",
   "metadata": {},
   "source": [
    "The compound score is computed by summing the valence scores of each word in the lexicon, adjusted according to the rules, and then normalized to be between -1 (most extreme negative) and +1 (most extreme positive). This is the most useful metric if you want a single unidimensional measure of sentiment for a given sentence. Calling it a 'normalized, weighted composite score' is accurate."
   ]
  },
  {
   "cell_type": "raw",
   "metadata": {},
   "source": [
    "1. positive sentiment: compound score >= 0.5\n",
    "2. neutral sentiment: (compound score > -0.5) and (compound score < 0.5)\n",
    "3. negative sentiment: compound score <= -0.5"
   ]
  },
  {
   "cell_type": "raw",
   "metadata": {},
   "source": [
    "1 stands for positive. 0 stands for neutral. -1 stands for negtive."
   ]
  },
  {
   "cell_type": "code",
   "execution_count": 14,
   "metadata": {},
   "outputs": [],
   "source": [
    "from vaderSentiment.vaderSentiment import SentimentIntensityAnalyzer\n",
    "classifier = SentimentIntensityAnalyzer()\n",
    "\n",
    "def getSentiment(text):\n",
    "    vs = classifier.polarity_scores(text)\n",
    "    if vs['compound'] >= 0.5:\n",
    "        sentiment = 1\n",
    "    elif vs['compound'] <= -0.5:\n",
    "        sentiment = -1\n",
    "    else:\n",
    "        sentiment = 0\n",
    "    return sentiment\n",
    "\n",
    "cloth['sentiment'] = [getSentiment(text) for text in cloth['item_description']]"
   ]
  },
  {
   "cell_type": "code",
   "execution_count": 17,
   "metadata": {},
   "outputs": [
    {
     "name": "stdout",
     "output_type": "stream",
     "text": [
      "(758065, 26)\n"
     ]
    },
    {
     "data": {
      "text/html": [
       "<div>\n",
       "<style scoped>\n",
       "    .dataframe tbody tr th:only-of-type {\n",
       "        vertical-align: middle;\n",
       "    }\n",
       "\n",
       "    .dataframe tbody tr th {\n",
       "        vertical-align: top;\n",
       "    }\n",
       "\n",
       "    .dataframe thead th {\n",
       "        text-align: right;\n",
       "    }\n",
       "</style>\n",
       "<table border=\"1\" class=\"dataframe\">\n",
       "  <thead>\n",
       "    <tr style=\"text-align: right;\">\n",
       "      <th></th>\n",
       "      <th>name</th>\n",
       "      <th>item_condition_id</th>\n",
       "      <th>category_name</th>\n",
       "      <th>brand_name</th>\n",
       "      <th>price</th>\n",
       "      <th>shipping</th>\n",
       "      <th>item_description</th>\n",
       "      <th>cat1</th>\n",
       "      <th>cat2</th>\n",
       "      <th>cat3</th>\n",
       "      <th>cat4</th>\n",
       "      <th>cat5</th>\n",
       "      <th>target</th>\n",
       "      <th>token_name</th>\n",
       "      <th>token_item_description</th>\n",
       "      <th>item_name</th>\n",
       "      <th>color</th>\n",
       "      <th>isnew</th>\n",
       "      <th>style</th>\n",
       "      <th>age</th>\n",
       "      <th>wash_style</th>\n",
       "      <th>fit</th>\n",
       "      <th>size</th>\n",
       "      <th>fabric</th>\n",
       "      <th>quality</th>\n",
       "      <th>sentiment</th>\n",
       "    </tr>\n",
       "  </thead>\n",
       "  <tbody>\n",
       "    <tr>\n",
       "      <th>0</th>\n",
       "      <td>mlb cincinnati reds t shirt size xl</td>\n",
       "      <td>3</td>\n",
       "      <td>Men/Tops/T-shirts</td>\n",
       "      <td>4786</td>\n",
       "      <td>10.0</td>\n",
       "      <td>1</td>\n",
       "      <td>no description yet</td>\n",
       "      <td>554</td>\n",
       "      <td>859</td>\n",
       "      <td>827</td>\n",
       "      <td>950</td>\n",
       "      <td>950</td>\n",
       "      <td>-0.369464</td>\n",
       "      <td>[mlb, cincinnati, reds, t, shirt, size, xl]</td>\n",
       "      <td>[no, description, yet]</td>\n",
       "      <td>15</td>\n",
       "      <td>5</td>\n",
       "      <td>0</td>\n",
       "      <td>27</td>\n",
       "      <td>4</td>\n",
       "      <td>0</td>\n",
       "      <td>2</td>\n",
       "      <td>2</td>\n",
       "      <td>11</td>\n",
       "      <td>2</td>\n",
       "      <td>0</td>\n",
       "    </tr>\n",
       "    <tr>\n",
       "      <th>1</th>\n",
       "      <td>ava-viv blouse</td>\n",
       "      <td>1</td>\n",
       "      <td>Women/Tops &amp; Blouses/Blouse</td>\n",
       "      <td>4180</td>\n",
       "      <td>10.0</td>\n",
       "      <td>1</td>\n",
       "      <td>adorable top with a hint of lace and a key hol...</td>\n",
       "      <td>934</td>\n",
       "      <td>860</td>\n",
       "      <td>104</td>\n",
       "      <td>950</td>\n",
       "      <td>950</td>\n",
       "      <td>-0.369464</td>\n",
       "      <td>[ava, viv, blouse]</td>\n",
       "      <td>[adorable, top, with, a, hint, of, lace, and, ...</td>\n",
       "      <td>0</td>\n",
       "      <td>6</td>\n",
       "      <td>0</td>\n",
       "      <td>27</td>\n",
       "      <td>4</td>\n",
       "      <td>0</td>\n",
       "      <td>2</td>\n",
       "      <td>4</td>\n",
       "      <td>8</td>\n",
       "      <td>2</td>\n",
       "      <td>1</td>\n",
       "    </tr>\n",
       "    <tr>\n",
       "      <th>2</th>\n",
       "      <td>24k gold plated rose</td>\n",
       "      <td>1</td>\n",
       "      <td>Women/Jewelry/Necklaces</td>\n",
       "      <td>4786</td>\n",
       "      <td>44.0</td>\n",
       "      <td>0</td>\n",
       "      <td>complete with certificate of authenticity</td>\n",
       "      <td>934</td>\n",
       "      <td>480</td>\n",
       "      <td>584</td>\n",
       "      <td>950</td>\n",
       "      <td>950</td>\n",
       "      <td>0.000978</td>\n",
       "      <td>[24k, gold, plated, rose]</td>\n",
       "      <td>[complete, with, certificate, of, authenticity]</td>\n",
       "      <td>8</td>\n",
       "      <td>5</td>\n",
       "      <td>0</td>\n",
       "      <td>27</td>\n",
       "      <td>4</td>\n",
       "      <td>0</td>\n",
       "      <td>2</td>\n",
       "      <td>4</td>\n",
       "      <td>11</td>\n",
       "      <td>2</td>\n",
       "      <td>0</td>\n",
       "    </tr>\n",
       "    <tr>\n",
       "      <th>3</th>\n",
       "      <td>bundled items requested for ruie</td>\n",
       "      <td>3</td>\n",
       "      <td>Women/Other/Other</td>\n",
       "      <td>4786</td>\n",
       "      <td>59.0</td>\n",
       "      <td>0</td>\n",
       "      <td>banana republic bottoms, candies skirt with ma...</td>\n",
       "      <td>934</td>\n",
       "      <td>609</td>\n",
       "      <td>609</td>\n",
       "      <td>950</td>\n",
       "      <td>950</td>\n",
       "      <td>0.076625</td>\n",
       "      <td>[bundled, items, requested, for, ruie]</td>\n",
       "      <td>[banana, republic, bottoms, candies, skirt, wi...</td>\n",
       "      <td>8</td>\n",
       "      <td>5</td>\n",
       "      <td>0</td>\n",
       "      <td>27</td>\n",
       "      <td>4</td>\n",
       "      <td>0</td>\n",
       "      <td>2</td>\n",
       "      <td>4</td>\n",
       "      <td>11</td>\n",
       "      <td>2</td>\n",
       "      <td>0</td>\n",
       "    </tr>\n",
       "    <tr>\n",
       "      <th>4</th>\n",
       "      <td>acacia pacific tides santorini top</td>\n",
       "      <td>3</td>\n",
       "      <td>Women/Swimwear/Two-Piece</td>\n",
       "      <td>79</td>\n",
       "      <td>64.0</td>\n",
       "      <td>0</td>\n",
       "      <td>size small but straps slightly shortened to fi...</td>\n",
       "      <td>934</td>\n",
       "      <td>824</td>\n",
       "      <td>894</td>\n",
       "      <td>950</td>\n",
       "      <td>950</td>\n",
       "      <td>0.097672</td>\n",
       "      <td>[acacia, pacific, tides, santorini, top]</td>\n",
       "      <td>[size, small, but, straps, slightly, shortened...</td>\n",
       "      <td>8</td>\n",
       "      <td>5</td>\n",
       "      <td>0</td>\n",
       "      <td>27</td>\n",
       "      <td>4</td>\n",
       "      <td>0</td>\n",
       "      <td>2</td>\n",
       "      <td>2</td>\n",
       "      <td>11</td>\n",
       "      <td>2</td>\n",
       "      <td>1</td>\n",
       "    </tr>\n",
       "  </tbody>\n",
       "</table>\n",
       "</div>"
      ],
      "text/plain": [
       "                                  name  item_condition_id  \\\n",
       "0  mlb cincinnati reds t shirt size xl                  3   \n",
       "1                       ava-viv blouse                  1   \n",
       "2                 24k gold plated rose                  1   \n",
       "3     bundled items requested for ruie                  3   \n",
       "4   acacia pacific tides santorini top                  3   \n",
       "\n",
       "                 category_name  brand_name  price  shipping  \\\n",
       "0            Men/Tops/T-shirts        4786   10.0         1   \n",
       "1  Women/Tops & Blouses/Blouse        4180   10.0         1   \n",
       "2      Women/Jewelry/Necklaces        4786   44.0         0   \n",
       "3            Women/Other/Other        4786   59.0         0   \n",
       "4     Women/Swimwear/Two-Piece          79   64.0         0   \n",
       "\n",
       "                                    item_description  cat1  cat2  cat3  cat4  \\\n",
       "0                                 no description yet   554   859   827   950   \n",
       "1  adorable top with a hint of lace and a key hol...   934   860   104   950   \n",
       "2          complete with certificate of authenticity   934   480   584   950   \n",
       "3  banana republic bottoms, candies skirt with ma...   934   609   609   950   \n",
       "4  size small but straps slightly shortened to fi...   934   824   894   950   \n",
       "\n",
       "   cat5    target                                   token_name  \\\n",
       "0   950 -0.369464  [mlb, cincinnati, reds, t, shirt, size, xl]   \n",
       "1   950 -0.369464                           [ava, viv, blouse]   \n",
       "2   950  0.000978                    [24k, gold, plated, rose]   \n",
       "3   950  0.076625       [bundled, items, requested, for, ruie]   \n",
       "4   950  0.097672     [acacia, pacific, tides, santorini, top]   \n",
       "\n",
       "                              token_item_description  item_name  color  isnew  \\\n",
       "0                             [no, description, yet]         15      5      0   \n",
       "1  [adorable, top, with, a, hint, of, lace, and, ...          0      6      0   \n",
       "2    [complete, with, certificate, of, authenticity]          8      5      0   \n",
       "3  [banana, republic, bottoms, candies, skirt, wi...          8      5      0   \n",
       "4  [size, small, but, straps, slightly, shortened...          8      5      0   \n",
       "\n",
       "   style  age  wash_style  fit  size  fabric  quality  sentiment  \n",
       "0     27    4           0    2     2      11        2          0  \n",
       "1     27    4           0    2     4       8        2          1  \n",
       "2     27    4           0    2     4      11        2          0  \n",
       "3     27    4           0    2     4      11        2          0  \n",
       "4     27    4           0    2     2      11        2          1  "
      ]
     },
     "execution_count": 17,
     "metadata": {},
     "output_type": "execute_result"
    }
   ],
   "source": [
    "pd.set_option('display.max_columns', None)\n",
    "print(cloth.shape)\n",
    "cloth.head()"
   ]
  },
  {
   "cell_type": "code",
   "execution_count": 18,
   "metadata": {
    "collapsed": true
   },
   "outputs": [],
   "source": [
    "cloth.to_csv(\"/mnt/disks/~/features.csv\",index=None)"
   ]
  },
  {
   "cell_type": "markdown",
   "metadata": {},
   "source": [
    "# Ridge Regression"
   ]
  },
  {
   "cell_type": "code",
   "execution_count": 20,
   "metadata": {},
   "outputs": [],
   "source": [
    "X = cloth.loc[:,['item_name','item_condition_id','brand_name','shipping','cat1','cat2','cat3',\\\n",
    "                 'color','isnew','style','age','wash_style','fit','size','fabric','quality','sentiment']]\n",
    "y = cloth['price']\n",
    "X_train, X_test, y_train, y_test = train_test_split(X, y, train_size=0.7)"
   ]
  },
  {
   "cell_type": "code",
   "execution_count": 21,
   "metadata": {},
   "outputs": [
    {
     "name": "stdout",
     "output_type": "stream",
     "text": [
      "0.773994796535\n",
      "0.77446229171\n"
     ]
    }
   ],
   "source": [
    "from sklearn.linear_model import Ridge\n",
    "\n",
    "def rmsle(ytrue,y):\n",
    "    return np.sqrt(mean_squared_log_error(ytrue,y))\n",
    "\n",
    "rr = Ridge(solver=\"sag\", fit_intercept=True, random_state=205, alpha=3)\n",
    "rr.fit(X_train,y_train)\n",
    "\n",
    "y_pred_tr = rr.predict(X_train)\n",
    "score_train = rmsle(y_train,y_pred_tr)\n",
    "\n",
    "y_pred = rr.predict(X_test)\n",
    "score_test = rmsle(y_test,y_pred)\n",
    "\n",
    "print(score_train)\n",
    "print(score_test)"
   ]
  },
  {
   "cell_type": "markdown",
   "metadata": {},
   "source": [
    "# Random Forest"
   ]
  },
  {
   "cell_type": "code",
   "execution_count": 22,
   "metadata": {},
   "outputs": [
    {
     "name": "stdout",
     "output_type": "stream",
     "text": [
      "0.555856693112\n",
      "0.563924118939\n",
      "[  2.07503527e-02   1.01264923e-01   4.87601866e-01   1.25004750e-02\n",
      "   1.00432754e-02   1.99378396e-01   1.02163753e-01   1.47350668e-02\n",
      "   1.08940646e-02   9.97095673e-03   3.58175607e-07   8.97165941e-06\n",
      "   5.00372195e-05   6.56871747e-03   9.71752465e-03   0.00000000e+00\n",
      "   1.43512622e-02]\n"
     ]
    }
   ],
   "source": [
    "from sklearn.ensemble import RandomForestRegressor\n",
    "\n",
    "rfc = RandomForestRegressor(n_estimators=50,min_samples_leaf=50,max_depth=20)\n",
    "rfc.fit(X_train,y_train)\n",
    "\n",
    "y_pred_tr = rfc.predict(X_train)\n",
    "score_train = rmsle(y_train,y_pred_tr)\n",
    "\n",
    "y_pred = rfc.predict(X_test)\n",
    "score_test = rmsle(y_test,y_pred)\n",
    "\n",
    "print(score_train)\n",
    "print(score_test)\n",
    "print(rfc.feature_importances_)"
   ]
  },
  {
   "cell_type": "code",
   "execution_count": null,
   "metadata": {
    "collapsed": true
   },
   "outputs": [],
   "source": []
  }
 ],
 "metadata": {
  "kernelspec": {
   "display_name": "Python 3",
   "language": "python",
   "name": "python3"
  },
  "language_info": {
   "codemirror_mode": {
    "name": "ipython",
    "version": 3
   },
   "file_extension": ".py",
   "mimetype": "text/x-python",
   "name": "python",
   "nbconvert_exporter": "python",
   "pygments_lexer": "ipython3",
   "version": "3.6.2"
  }
 },
 "nbformat": 4,
 "nbformat_minor": 1
}
